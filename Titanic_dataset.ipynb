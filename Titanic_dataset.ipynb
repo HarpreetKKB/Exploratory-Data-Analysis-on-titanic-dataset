{
 "cells": [
  {
   "cell_type": "markdown",
   "id": "555f5da6",
   "metadata": {},
   "source": [
    "## Exploratory Data Analysis using Pandas \n",
    "\n"
   ]
  },
  {
   "cell_type": "markdown",
   "id": "e028eb9e",
   "metadata": {},
   "source": [
    "The data file used in this work can be downloaded from Kaggle website: https://www.kaggle.com/c/titanic/data, file `train.csv`. \n",
    "The main objective is to study exploratory data analysis using Pandas"
   ]
  },
  {
   "cell_type": "markdown",
   "id": "22b74c3a",
   "metadata": {},
   "source": [
    "**Question 1.**  _(4 points)_\n",
    "* The answer to the main question - What categories of passengers were most likely to survive the Titanic disaster? _(2 points)_\n",
    "* The detailed explanation of the logic of the analysis _(2 points)_\n",
    "\n",
    "**Question 2.**  _(3 points)_\n",
    "* What other attributes did you use for the analysis? Explain how you used them and why you decided to use them. \n",
    "* Provide a complete list of all attributes used.\n",
    "\n",
    "**Question 3.**  _(3 points)_\n",
    "* Did you engineer any attributes (created new attributes)? If yes, explain the rationale and how the new attributes were used in the analysis?\n",
    "* If you have excluded any attributes from the analysis, provide an explanation why you believe they can be excluded.\n",
    "\n",
    "**Question 4.**  _(5 points)_\n",
    "* How did you treat missing values for those attributes that you included in the analysis (for example, `age` attribute)? Provide a detailed explanation in the comments.\n"
   ]
  },
  {
   "cell_type": "code",
   "execution_count": 46,
   "id": "7055bbe0",
   "metadata": {
    "collapsed": true
   },
   "outputs": [],
   "source": [
    "#import the libraries\n",
    "import pandas as pd\n",
    "import numpy as np\n",
    "import matplotlib.pyplot as plt\n",
    "import seaborn as sns\n",
    "%matplotlib inline"
   ]
  },
  {
   "cell_type": "code",
   "execution_count": 47,
   "id": "a15a78e0",
   "metadata": {},
   "outputs": [
    {
     "data": {
      "text/html": [
       "<div>\n",
       "<style scoped>\n",
       "    .dataframe tbody tr th:only-of-type {\n",
       "        vertical-align: middle;\n",
       "    }\n",
       "\n",
       "    .dataframe tbody tr th {\n",
       "        vertical-align: top;\n",
       "    }\n",
       "\n",
       "    .dataframe thead th {\n",
       "        text-align: right;\n",
       "    }\n",
       "</style>\n",
       "<table border=\"1\" class=\"dataframe\">\n",
       "  <thead>\n",
       "    <tr style=\"text-align: right;\">\n",
       "      <th></th>\n",
       "      <th>PassengerId</th>\n",
       "      <th>Survived</th>\n",
       "      <th>Pclass</th>\n",
       "      <th>Name</th>\n",
       "      <th>Sex</th>\n",
       "      <th>Age</th>\n",
       "      <th>SibSp</th>\n",
       "      <th>Parch</th>\n",
       "      <th>Ticket</th>\n",
       "      <th>Fare</th>\n",
       "      <th>Cabin</th>\n",
       "      <th>Embarked</th>\n",
       "    </tr>\n",
       "  </thead>\n",
       "  <tbody>\n",
       "    <tr>\n",
       "      <th>0</th>\n",
       "      <td>1</td>\n",
       "      <td>0</td>\n",
       "      <td>3</td>\n",
       "      <td>Braund, Mr. Owen Harris</td>\n",
       "      <td>male</td>\n",
       "      <td>22.0</td>\n",
       "      <td>1</td>\n",
       "      <td>0</td>\n",
       "      <td>A/5 21171</td>\n",
       "      <td>7.2500</td>\n",
       "      <td>NaN</td>\n",
       "      <td>S</td>\n",
       "    </tr>\n",
       "    <tr>\n",
       "      <th>1</th>\n",
       "      <td>2</td>\n",
       "      <td>1</td>\n",
       "      <td>1</td>\n",
       "      <td>Cumings, Mrs. John Bradley (Florence Briggs Th...</td>\n",
       "      <td>female</td>\n",
       "      <td>38.0</td>\n",
       "      <td>1</td>\n",
       "      <td>0</td>\n",
       "      <td>PC 17599</td>\n",
       "      <td>71.2833</td>\n",
       "      <td>C85</td>\n",
       "      <td>C</td>\n",
       "    </tr>\n",
       "    <tr>\n",
       "      <th>2</th>\n",
       "      <td>3</td>\n",
       "      <td>1</td>\n",
       "      <td>3</td>\n",
       "      <td>Heikkinen, Miss. Laina</td>\n",
       "      <td>female</td>\n",
       "      <td>26.0</td>\n",
       "      <td>0</td>\n",
       "      <td>0</td>\n",
       "      <td>STON/O2. 3101282</td>\n",
       "      <td>7.9250</td>\n",
       "      <td>NaN</td>\n",
       "      <td>S</td>\n",
       "    </tr>\n",
       "    <tr>\n",
       "      <th>3</th>\n",
       "      <td>4</td>\n",
       "      <td>1</td>\n",
       "      <td>1</td>\n",
       "      <td>Futrelle, Mrs. Jacques Heath (Lily May Peel)</td>\n",
       "      <td>female</td>\n",
       "      <td>35.0</td>\n",
       "      <td>1</td>\n",
       "      <td>0</td>\n",
       "      <td>113803</td>\n",
       "      <td>53.1000</td>\n",
       "      <td>C123</td>\n",
       "      <td>S</td>\n",
       "    </tr>\n",
       "    <tr>\n",
       "      <th>4</th>\n",
       "      <td>5</td>\n",
       "      <td>0</td>\n",
       "      <td>3</td>\n",
       "      <td>Allen, Mr. William Henry</td>\n",
       "      <td>male</td>\n",
       "      <td>35.0</td>\n",
       "      <td>0</td>\n",
       "      <td>0</td>\n",
       "      <td>373450</td>\n",
       "      <td>8.0500</td>\n",
       "      <td>NaN</td>\n",
       "      <td>S</td>\n",
       "    </tr>\n",
       "  </tbody>\n",
       "</table>\n",
       "</div>"
      ],
      "text/plain": [
       "   PassengerId  Survived  Pclass  \\\n",
       "0            1         0       3   \n",
       "1            2         1       1   \n",
       "2            3         1       3   \n",
       "3            4         1       1   \n",
       "4            5         0       3   \n",
       "\n",
       "                                                Name     Sex   Age  SibSp  \\\n",
       "0                            Braund, Mr. Owen Harris    male  22.0      1   \n",
       "1  Cumings, Mrs. John Bradley (Florence Briggs Th...  female  38.0      1   \n",
       "2                             Heikkinen, Miss. Laina  female  26.0      0   \n",
       "3       Futrelle, Mrs. Jacques Heath (Lily May Peel)  female  35.0      1   \n",
       "4                           Allen, Mr. William Henry    male  35.0      0   \n",
       "\n",
       "   Parch            Ticket     Fare Cabin Embarked  \n",
       "0      0         A/5 21171   7.2500   NaN        S  \n",
       "1      0          PC 17599  71.2833   C85        C  \n",
       "2      0  STON/O2. 3101282   7.9250   NaN        S  \n",
       "3      0            113803  53.1000  C123        S  \n",
       "4      0            373450   8.0500   NaN        S  "
      ]
     },
     "execution_count": 47,
     "metadata": {},
     "output_type": "execute_result"
    }
   ],
   "source": [
    "#Read the csv file\n",
    "dframe = pd.read_csv('train.csv') \n"
   ]
  },
  {
   "cell_type": "code",
   "execution_count": 49,
   "id": "93ea452a",
   "metadata": {},
   "outputs": [
    {
     "name": "stdout",
     "output_type": "stream",
     "text": [
      "<class 'pandas.core.frame.DataFrame'>\n",
      "RangeIndex: 891 entries, 0 to 890\n",
      "Data columns (total 12 columns):\n",
      " #   Column       Non-Null Count  Dtype  \n",
      "---  ------       --------------  -----  \n",
      " 0   PassengerId  891 non-null    int64  \n",
      " 1   Survived     891 non-null    int64  \n",
      " 2   Pclass       891 non-null    int64  \n",
      " 3   Name         891 non-null    object \n",
      " 4   Sex          891 non-null    object \n",
      " 5   Age          714 non-null    float64\n",
      " 6   SibSp        891 non-null    int64  \n",
      " 7   Parch        891 non-null    int64  \n",
      " 8   Ticket       891 non-null    object \n",
      " 9   Fare         891 non-null    float64\n",
      " 10  Cabin        204 non-null    object \n",
      " 11  Embarked     889 non-null    object \n",
      "dtypes: float64(2), int64(5), object(5)\n",
      "memory usage: 83.7+ KB\n"
     ]
    }
   ],
   "source": [
    "# Running info function to check more details on dataframe set\n",
    "dframe.info()"
   ]
  },
  {
   "cell_type": "code",
   "execution_count": 50,
   "id": "36d35024",
   "metadata": {
    "collapsed": true
   },
   "outputs": [],
   "source": [
    "# drop the unwanted columns, such as, Ticket, Cabin, PassengerId,Parch:\n",
    "dframe=dframe.drop(['Ticket','Cabin','PassengerId','Parch'], axis=1)"
   ]
  },
  {
   "cell_type": "code",
   "execution_count": 51,
   "id": "1e161eea",
   "metadata": {
    "scrolled": false
   },
   "outputs": [
    {
     "data": {
      "text/plain": [
       "<AxesSubplot:xlabel='SibSp', ylabel='count'>"
      ]
     },
     "execution_count": 51,
     "metadata": {},
     "output_type": "execute_result"
    },
    {
     "data": {
      "image/png": "[encoded data removed]",
      "text/plain": [
       "<Figure size 432x288 with 1 Axes>"
      ]
     },
     "metadata": {
      "needs_background": "light"
     },
     "output_type": "display_data"
    }
   ],
   "source": [
    "# Checking Sibling-Spouse count\n",
    "\n",
    "dframe['SibSp'].value_counts()\n",
    "sns.countplot(x='SibSp', data=dframe)"
   ]
  },
  {
   "cell_type": "code",
   "execution_count": 52,
   "id": "aa4cc6f6",
   "metadata": {},
   "outputs": [
    {
     "data": {
      "text/html": [
       "<div>\n",
       "<style scoped>\n",
       "    .dataframe tbody tr th:only-of-type {\n",
       "        vertical-align: middle;\n",
       "    }\n",
       "\n",
       "    .dataframe tbody tr th {\n",
       "        vertical-align: top;\n",
       "    }\n",
       "\n",
       "    .dataframe thead th {\n",
       "        text-align: right;\n",
       "    }\n",
       "</style>\n",
       "<table border=\"1\" class=\"dataframe\">\n",
       "  <thead>\n",
       "    <tr style=\"text-align: right;\">\n",
       "      <th></th>\n",
       "      <th>SibSp</th>\n",
       "      <th>Survived</th>\n",
       "    </tr>\n",
       "  </thead>\n",
       "  <tbody>\n",
       "    <tr>\n",
       "      <th>1</th>\n",
       "      <td>1</td>\n",
       "      <td>0.535885</td>\n",
       "    </tr>\n",
       "    <tr>\n",
       "      <th>2</th>\n",
       "      <td>2</td>\n",
       "      <td>0.464286</td>\n",
       "    </tr>\n",
       "    <tr>\n",
       "      <th>0</th>\n",
       "      <td>0</td>\n",
       "      <td>0.345395</td>\n",
       "    </tr>\n",
       "    <tr>\n",
       "      <th>3</th>\n",
       "      <td>3</td>\n",
       "      <td>0.250000</td>\n",
       "    </tr>\n",
       "    <tr>\n",
       "      <th>4</th>\n",
       "      <td>4</td>\n",
       "      <td>0.166667</td>\n",
       "    </tr>\n",
       "    <tr>\n",
       "      <th>5</th>\n",
       "      <td>5</td>\n",
       "      <td>0.000000</td>\n",
       "    </tr>\n",
       "    <tr>\n",
       "      <th>6</th>\n",
       "      <td>8</td>\n",
       "      <td>0.000000</td>\n",
       "    </tr>\n",
       "  </tbody>\n",
       "</table>\n",
       "</div>"
      ],
      "text/plain": [
       "   SibSp  Survived\n",
       "1      1  0.535885\n",
       "2      2  0.464286\n",
       "0      0  0.345395\n",
       "3      3  0.250000\n",
       "4      4  0.166667\n",
       "5      5  0.000000\n",
       "6      8  0.000000"
      ]
     },
     "execution_count": 52,
     "metadata": {},
     "output_type": "execute_result"
    }
   ],
   "source": [
    "# Doing grouping based on Sibling-Spouse\n",
    "dframe[[\"SibSp\", \"Survived\"]].groupby(['SibSp'], as_index=False).mean().sort_values(by='Survived', ascending=False)\n",
    "# Maximum people survived who were having 1 sib/spouse."
   ]
  },
  {
   "cell_type": "code",
   "execution_count": 53,
   "id": "edd6adb4",
   "metadata": {},
   "outputs": [
    {
     "name": "stdout",
     "output_type": "stream",
     "text": [
      "{'Ms', 'Major', 'Master', 'Miss', 'Sir', 'Mrs', 'Capt', 'Col', 'the Countess', 'Mme', 'Dr', 'Mlle', 'Jonkheer', 'Rev', 'Don', 'Lady', 'Mr'}\n"
     ]
    }
   ],
   "source": [
    "# 'Name' Attribute\n",
    "titles = set()\n",
    "for name in dframe['Name']:\n",
    "    titles.add(name.split(',')[1].split('.')[0].strip())\n",
    "print(titles)\n"
   ]
  },
  {
   "cell_type": "markdown",
   "id": "044f9603",
   "metadata": {},
   "source": [
    "On checking the titles in Name attribute typo errors were found and to address that an additional attribute 'Title' was \n",
    "created by dropping 'Name' attribute. This will provide better information as compared to Name column"
   ]
  },
  {
   "cell_type": "code",
   "execution_count": 54,
   "id": "aaff9b53",
   "metadata": {
    "collapsed": true
   },
   "outputs": [],
   "source": [
    "#Change the names to specific ones for categorizing them into a few\n",
    "Title_Dictionary = {\"Capt\": \"Officer\",\"Col\": \"Officer\",\"Major\": \"Officer\",\"Jonkheer\": \"Royalty\",\"Don\": \"Royalty\",\"Sir\" : \"Royalty\",\"Dr\": \"Officer\",\"Rev\": \"Officer\",\"the Countess\":\"Royalty\",\"Mme\": \"Mrs\",\"Mlle\": \"Miss\",\"Ms\": \"Mrs\",\"Mr\" : \"Mr\",\"Mrs\" : \"Mrs\",\"Miss\" : \"Miss\",\"Master\" : \"Master\",\"Lady\" : \"Royalty\"}"
   ]
  },
  {
   "cell_type": "code",
   "execution_count": 55,
   "id": "1e1aefbc",
   "metadata": {},
   "outputs": [
    {
     "data": {
      "text/html": [
       "<div>\n",
       "<style scoped>\n",
       "    .dataframe tbody tr th:only-of-type {\n",
       "        vertical-align: middle;\n",
       "    }\n",
       "\n",
       "    .dataframe tbody tr th {\n",
       "        vertical-align: top;\n",
       "    }\n",
       "\n",
       "    .dataframe thead th {\n",
       "        text-align: right;\n",
       "    }\n",
       "</style>\n",
       "<table border=\"1\" class=\"dataframe\">\n",
       "  <thead>\n",
       "    <tr style=\"text-align: right;\">\n",
       "      <th></th>\n",
       "      <th>Survived</th>\n",
       "      <th>Pclass</th>\n",
       "      <th>Sex</th>\n",
       "      <th>Age</th>\n",
       "      <th>SibSp</th>\n",
       "      <th>Fare</th>\n",
       "      <th>Embarked</th>\n",
       "      <th>Title</th>\n",
       "    </tr>\n",
       "  </thead>\n",
       "  <tbody>\n",
       "    <tr>\n",
       "      <th>0</th>\n",
       "      <td>0</td>\n",
       "      <td>3</td>\n",
       "      <td>male</td>\n",
       "      <td>22.0</td>\n",
       "      <td>1</td>\n",
       "      <td>7.2500</td>\n",
       "      <td>S</td>\n",
       "      <td>Mr</td>\n",
       "    </tr>\n",
       "    <tr>\n",
       "      <th>1</th>\n",
       "      <td>1</td>\n",
       "      <td>1</td>\n",
       "      <td>female</td>\n",
       "      <td>38.0</td>\n",
       "      <td>1</td>\n",
       "      <td>71.2833</td>\n",
       "      <td>C</td>\n",
       "      <td>Mrs</td>\n",
       "    </tr>\n",
       "    <tr>\n",
       "      <th>2</th>\n",
       "      <td>1</td>\n",
       "      <td>3</td>\n",
       "      <td>female</td>\n",
       "      <td>26.0</td>\n",
       "      <td>0</td>\n",
       "      <td>7.9250</td>\n",
       "      <td>S</td>\n",
       "      <td>Miss</td>\n",
       "    </tr>\n",
       "    <tr>\n",
       "      <th>3</th>\n",
       "      <td>1</td>\n",
       "      <td>1</td>\n",
       "      <td>female</td>\n",
       "      <td>35.0</td>\n",
       "      <td>1</td>\n",
       "      <td>53.1000</td>\n",
       "      <td>S</td>\n",
       "      <td>Mrs</td>\n",
       "    </tr>\n",
       "    <tr>\n",
       "      <th>4</th>\n",
       "      <td>0</td>\n",
       "      <td>3</td>\n",
       "      <td>male</td>\n",
       "      <td>35.0</td>\n",
       "      <td>0</td>\n",
       "      <td>8.0500</td>\n",
       "      <td>S</td>\n",
       "      <td>Mr</td>\n",
       "    </tr>\n",
       "  </tbody>\n",
       "</table>\n",
       "</div>"
      ],
      "text/plain": [
       "   Survived  Pclass     Sex   Age  SibSp     Fare Embarked Title\n",
       "0         0       3    male  22.0      1   7.2500        S    Mr\n",
       "1         1       1  female  38.0      1  71.2833        C   Mrs\n",
       "2         1       3  female  26.0      0   7.9250        S  Miss\n",
       "3         1       1  female  35.0      1  53.1000        S   Mrs\n",
       "4         0       3    male  35.0      0   8.0500        S    Mr"
      ]
     },
     "execution_count": 55,
     "metadata": {},
     "output_type": "execute_result"
    }
   ],
   "source": [
    "#Use the map/lambda function of pandas\n",
    "dframe['Title'] = dframe['Name'].map(lambda name:name.split(',')[1].split('.')[0].strip())\n",
    "dframe['Title'] = dframe.Title.map(Title_Dictionary)\n",
    "dframe.drop('Name', axis=1, inplace=True)\n",
    "dframe.head()"
   ]
  },
  {
   "cell_type": "code",
   "execution_count": 56,
   "id": "a376074a",
   "metadata": {},
   "outputs": [
    {
     "data": {
      "text/html": [
       "<div>\n",
       "<style scoped>\n",
       "    .dataframe tbody tr th:only-of-type {\n",
       "        vertical-align: middle;\n",
       "    }\n",
       "\n",
       "    .dataframe tbody tr th {\n",
       "        vertical-align: top;\n",
       "    }\n",
       "\n",
       "    .dataframe thead th {\n",
       "        text-align: right;\n",
       "    }\n",
       "</style>\n",
       "<table border=\"1\" class=\"dataframe\">\n",
       "  <thead>\n",
       "    <tr style=\"text-align: right;\">\n",
       "      <th></th>\n",
       "      <th>Title</th>\n",
       "      <th>Survived</th>\n",
       "    </tr>\n",
       "  </thead>\n",
       "  <tbody>\n",
       "    <tr>\n",
       "      <th>0</th>\n",
       "      <td>Master</td>\n",
       "      <td>0.575000</td>\n",
       "    </tr>\n",
       "    <tr>\n",
       "      <th>1</th>\n",
       "      <td>Miss</td>\n",
       "      <td>0.701087</td>\n",
       "    </tr>\n",
       "    <tr>\n",
       "      <th>2</th>\n",
       "      <td>Mr</td>\n",
       "      <td>0.156673</td>\n",
       "    </tr>\n",
       "    <tr>\n",
       "      <th>3</th>\n",
       "      <td>Mrs</td>\n",
       "      <td>0.795276</td>\n",
       "    </tr>\n",
       "    <tr>\n",
       "      <th>4</th>\n",
       "      <td>Officer</td>\n",
       "      <td>0.277778</td>\n",
       "    </tr>\n",
       "    <tr>\n",
       "      <th>5</th>\n",
       "      <td>Royalty</td>\n",
       "      <td>0.600000</td>\n",
       "    </tr>\n",
       "  </tbody>\n",
       "</table>\n",
       "</div>"
      ],
      "text/plain": [
       "     Title  Survived\n",
       "0   Master  0.575000\n",
       "1     Miss  0.701087\n",
       "2       Mr  0.156673\n",
       "3      Mrs  0.795276\n",
       "4  Officer  0.277778\n",
       "5  Royalty  0.600000"
      ]
     },
     "execution_count": 56,
     "metadata": {},
     "output_type": "execute_result"
    }
   ],
   "source": [
    "# Based on 'Title' engineered attribute we find that married females survived the most when compared with unmarried females \n",
    "# and children (among top 3 survival categories).\n",
    "\n",
    "dframe[['Title','Survived']].groupby(['Title'],as_index=False).mean()"
   ]
  },
  {
   "cell_type": "code",
   "execution_count": 57,
   "id": "e91aa8a1",
   "metadata": {},
   "outputs": [
    {
     "name": "stdout",
     "output_type": "stream",
     "text": [
      "<class 'pandas.core.frame.DataFrame'>\n",
      "RangeIndex: 891 entries, 0 to 890\n",
      "Data columns (total 8 columns):\n",
      " #   Column    Non-Null Count  Dtype  \n",
      "---  ------    --------------  -----  \n",
      " 0   Survived  891 non-null    int64  \n",
      " 1   Pclass    891 non-null    int64  \n",
      " 2   Sex       891 non-null    object \n",
      " 3   Age       714 non-null    float64\n",
      " 4   SibSp     891 non-null    int64  \n",
      " 5   Fare      891 non-null    float64\n",
      " 6   Embarked  889 non-null    object \n",
      " 7   Title     891 non-null    object \n",
      "dtypes: float64(2), int64(3), object(3)\n",
      "memory usage: 55.8+ KB\n"
     ]
    }
   ],
   "source": [
    "dframe.info()"
   ]
  },
  {
   "cell_type": "code",
   "execution_count": 58,
   "id": "6861b434",
   "metadata": {
    "collapsed": true
   },
   "outputs": [],
   "source": [
    "# transforming male, female categories to numeric form first\n",
    "dframe.Sex=dframe.Sex.map({'female':0, 'male':1})"
   ]
  },
  {
   "cell_type": "code",
   "execution_count": 59,
   "id": "95d5e6b4",
   "metadata": {
    "collapsed": true
   },
   "outputs": [],
   "source": [
    "men_age_med=dframe[dframe['Sex']==1]['Age'].median()\n",
    "women_age_med=dframe[dframe['Sex']==0]['Age'].median()"
   ]
  },
  {
   "cell_type": "code",
   "execution_count": 60,
   "id": "f8969a2d",
   "metadata": {
    "collapsed": true
   },
   "outputs": [],
   "source": [
    "# filling null values in 'Age' with respective median age\n",
    "dframe.loc[(dframe.Age.isnull()) & (dframe['Sex']==0),'Age']=women_age_med\n",
    "dframe.loc[(dframe.Age.isnull()) & (dframe['Sex']==1),'Age']=men_age_med"
   ]
  },
  {
   "cell_type": "code",
   "execution_count": 61,
   "id": "e03e9417",
   "metadata": {
    "scrolled": true
   },
   "outputs": [
    {
     "name": "stdout",
     "output_type": "stream",
     "text": [
      "<class 'pandas.core.frame.DataFrame'>\n",
      "RangeIndex: 891 entries, 0 to 890\n",
      "Data columns (total 8 columns):\n",
      " #   Column    Non-Null Count  Dtype  \n",
      "---  ------    --------------  -----  \n",
      " 0   Survived  891 non-null    int64  \n",
      " 1   Pclass    891 non-null    int64  \n",
      " 2   Sex       891 non-null    int64  \n",
      " 3   Age       891 non-null    float64\n",
      " 4   SibSp     891 non-null    int64  \n",
      " 5   Fare      891 non-null    float64\n",
      " 6   Embarked  889 non-null    object \n",
      " 7   Title     891 non-null    object \n",
      "dtypes: float64(2), int64(4), object(2)\n",
      "memory usage: 55.8+ KB\n"
     ]
    }
   ],
   "source": [
    "# On running info function on our dataframe we cross verify that there is no null value against age\n",
    "dframe.info()"
   ]
  },
  {
   "cell_type": "code",
   "execution_count": 62,
   "id": "7ae9f0a0",
   "metadata": {},
   "outputs": [
    {
     "data": {
      "text/plain": [
       "<seaborn.axisgrid.FacetGrid at 0x1cb6fca1610>"
      ]
     },
     "execution_count": 62,
     "metadata": {},
     "output_type": "execute_result"
    },
    {
     "data": {
      "image/png": "[encoded data removed]",
      "text/plain": [
       "<Figure size 432x216 with 2 Axes>"
      ]
     },
     "metadata": {
      "needs_background": "light"
     },
     "output_type": "display_data"
    }
   ],
   "source": [
    "# Calculating the relationship of age group with number of survivals\n",
    "\n",
    "g = sns.FacetGrid(dframe, col='Survived')\n",
    "g.map(plt.hist, 'Age', bins=20)\n"
   ]
  },
  {
   "cell_type": "code",
   "execution_count": 64,
   "id": "1751fcde",
   "metadata": {},
   "outputs": [
    {
     "data": {
      "text/plain": [
       "1    577\n",
       "0    314\n",
       "Name: Sex, dtype: int64"
      ]
     },
     "execution_count": 64,
     "metadata": {},
     "output_type": "execute_result"
    }
   ],
   "source": [
    "# Checking count of Males and Females\n",
    "dframe['Sex'].value_counts()\n",
    "# Count of Females = 314 and Males = 577 as per running the above command"
   ]
  },
  {
   "cell_type": "code",
   "execution_count": 65,
   "id": "33591167",
   "metadata": {
    "collapsed": true
   },
   "outputs": [],
   "source": [
    "# Let's add a new feature named Died\n",
    "dframe['Died'] = 1 - dframe['Survived']"
   ]
  },
  {
   "cell_type": "code",
   "execution_count": 66,
   "id": "2691ad2c",
   "metadata": {},
   "outputs": [
    {
     "data": {
      "text/html": [
       "<div>\n",
       "<style scoped>\n",
       "    .dataframe tbody tr th:only-of-type {\n",
       "        vertical-align: middle;\n",
       "    }\n",
       "\n",
       "    .dataframe tbody tr th {\n",
       "        vertical-align: top;\n",
       "    }\n",
       "\n",
       "    .dataframe thead th {\n",
       "        text-align: right;\n",
       "    }\n",
       "</style>\n",
       "<table border=\"1\" class=\"dataframe\">\n",
       "  <thead>\n",
       "    <tr style=\"text-align: right;\">\n",
       "      <th></th>\n",
       "      <th>Survived</th>\n",
       "      <th>Died</th>\n",
       "    </tr>\n",
       "    <tr>\n",
       "      <th>Sex</th>\n",
       "      <th></th>\n",
       "      <th></th>\n",
       "    </tr>\n",
       "  </thead>\n",
       "  <tbody>\n",
       "    <tr>\n",
       "      <th>0</th>\n",
       "      <td>233</td>\n",
       "      <td>81</td>\n",
       "    </tr>\n",
       "    <tr>\n",
       "      <th>1</th>\n",
       "      <td>109</td>\n",
       "      <td>468</td>\n",
       "    </tr>\n",
       "  </tbody>\n",
       "</table>\n",
       "</div>"
      ],
      "text/plain": [
       "     Survived  Died\n",
       "Sex                \n",
       "0         233    81\n",
       "1         109   468"
      ]
     },
     "execution_count": 66,
     "metadata": {},
     "output_type": "execute_result"
    }
   ],
   "source": [
    "dframe.groupby('Sex').agg('sum')[['Survived', 'Died']]"
   ]
  },
  {
   "cell_type": "code",
   "execution_count": 67,
   "id": "8ea86ea4",
   "metadata": {
    "collapsed": true
   },
   "outputs": [],
   "source": [
    "# We know total count of people is 891 as per info details. Therefore, finding out the %age of male and female that died\n",
    "# We have already calculated the total count of males and females and now utilizing it for calculating %ages\n",
    "Male_total = 577\n",
    "Female_total = 314\n",
    "Male_survived= 109\n",
    "Female_survived= 233\n",
    "Total_survived = Male_survived + Female_survived\n",
    "Total_people = Male_total + Female_total\n",
    "\n",
    "Female_survival_perc = (Female_survived/Female_total)* 100\n",
    "Male_survival_perc = (Male_survived/Male_total)*100\n",
    "Total_survival_perc = (Total_survived/Total_people)*100"
   ]
  },
  {
   "cell_type": "code",
   "execution_count": 68,
   "id": "e3616538",
   "metadata": {},
   "outputs": [
    {
     "data": {
      "text/plain": [
       "{'Female_survival_perc': 74.20382165605095,\n",
       " 'Male_survival_perc': 18.890814558058924,\n",
       " 'Total_survival_perc': 38.38383838383838}"
      ]
     },
     "execution_count": 68,
     "metadata": {},
     "output_type": "execute_result"
    }
   ],
   "source": [
    "Survival_perc_sex = {'Female_survival_perc':Female_survival_perc, 'Male_survival_perc':Male_survival_perc, 'Total_survival_perc':Total_survival_perc }\n",
    "Survival_perc_sex"
   ]
  },
  {
   "cell_type": "code",
   "execution_count": 69,
   "id": "237c63e3",
   "metadata": {
    "collapsed": true
   },
   "outputs": [],
   "source": [
    "# Clearly survival percentage of Females was more than males counterpart"
   ]
  },
  {
   "cell_type": "code",
   "execution_count": 70,
   "id": "ca0ac76e",
   "metadata": {},
   "outputs": [
    {
     "data": {
      "text/html": [
       "<div>\n",
       "<style scoped>\n",
       "    .dataframe tbody tr th:only-of-type {\n",
       "        vertical-align: middle;\n",
       "    }\n",
       "\n",
       "    .dataframe tbody tr th {\n",
       "        vertical-align: top;\n",
       "    }\n",
       "\n",
       "    .dataframe thead th {\n",
       "        text-align: right;\n",
       "    }\n",
       "</style>\n",
       "<table border=\"1\" class=\"dataframe\">\n",
       "  <thead>\n",
       "    <tr style=\"text-align: right;\">\n",
       "      <th></th>\n",
       "      <th>Survived</th>\n",
       "      <th>Died</th>\n",
       "    </tr>\n",
       "    <tr>\n",
       "      <th>Pclass</th>\n",
       "      <th></th>\n",
       "      <th></th>\n",
       "    </tr>\n",
       "  </thead>\n",
       "  <tbody>\n",
       "    <tr>\n",
       "      <th>1</th>\n",
       "      <td>136</td>\n",
       "      <td>80</td>\n",
       "    </tr>\n",
       "    <tr>\n",
       "      <th>2</th>\n",
       "      <td>87</td>\n",
       "      <td>97</td>\n",
       "    </tr>\n",
       "    <tr>\n",
       "      <th>3</th>\n",
       "      <td>119</td>\n",
       "      <td>372</td>\n",
       "    </tr>\n",
       "  </tbody>\n",
       "</table>\n",
       "</div>"
      ],
      "text/plain": [
       "        Survived  Died\n",
       "Pclass                \n",
       "1            136    80\n",
       "2             87    97\n",
       "3            119   372"
      ]
     },
     "execution_count": 70,
     "metadata": {},
     "output_type": "execute_result"
    }
   ],
   "source": [
    "# Now trying to find out the survival percentage based on Class of ticket bought\n",
    "\n",
    "Class_survival = dframe.groupby('Pclass').sum()[['Survived', 'Died']]\n",
    "dframe.groupby('Pclass').sum()[['Survived', 'Died']]"
   ]
  },
  {
   "cell_type": "code",
   "execution_count": 71,
   "id": "b70c27a3",
   "metadata": {
    "collapsed": true
   },
   "outputs": [],
   "source": [
    "Class_1_total = Class_survival.iloc[0,0] + Class_survival.iloc[0,1]\n",
    "Class_2_total = Class_survival.iloc[1,0] + Class_survival.iloc[1,1]\n",
    "Class_3_total = Class_survival.iloc[2,0] + Class_survival.iloc[2,1]\n",
    "\n",
    "\n",
    "Class_1_survival = Class_survival.iloc[0,0]\n",
    "Class_2_survival = Class_survival.iloc[1,0]\n",
    "Class_3_survival = Class_survival.iloc[2,0]"
   ]
  },
  {
   "cell_type": "code",
   "execution_count": 72,
   "id": "b69bc418",
   "metadata": {
    "collapsed": true
   },
   "outputs": [],
   "source": [
    "Class_1_survival_perc = (Class_1_survival/Class_1_total)*100\n",
    "Class_2_survival_perc = (Class_2_survival/Class_2_total)*100\n",
    "Class_3_survival_perc = (Class_3_survival/Class_3_total)*100"
   ]
  },
  {
   "cell_type": "code",
   "execution_count": 73,
   "id": "3daa59a8",
   "metadata": {},
   "outputs": [
    {
     "data": {
      "text/plain": [
       "{'Class_1_survival_perc': 62.96296296296296,\n",
       " 'Class_2_survival_perc': 47.28260869565217,\n",
       " 'Class_3_survival_perc': 24.236252545824847}"
      ]
     },
     "execution_count": 73,
     "metadata": {},
     "output_type": "execute_result"
    }
   ],
   "source": [
    "Survival_perc_class = {'Class_1_survival_perc':Class_1_survival_perc, 'Class_2_survival_perc':Class_2_survival_perc, 'Class_3_survival_perc':Class_3_survival_perc}\n",
    "Survival_perc_class"
   ]
  },
  {
   "cell_type": "code",
   "execution_count": 74,
   "id": "23a36591",
   "metadata": {
    "collapsed": true
   },
   "outputs": [],
   "source": [
    "# The data indicates that Pclass 1 survival rate was maximum from all the classes"
   ]
  },
  {
   "cell_type": "code",
   "execution_count": 75,
   "id": "453a1d6e",
   "metadata": {},
   "outputs": [
    {
     "data": {
      "text/plain": [
       "Pclass\n",
       "1    62.962963\n",
       "2    47.282609\n",
       "3    24.236253\n",
       "Name: Survived, dtype: float64"
      ]
     },
     "execution_count": 75,
     "metadata": {},
     "output_type": "execute_result"
    }
   ],
   "source": [
    "# Another way of calculating the percentage survival for Pclass\n",
    "Pclass_survived_count = dframe[dframe['Survived']==1].groupby('Pclass').count()['Survived']\n",
    "Pclass_count = dframe.groupby('Pclass').count()['Survived']\n",
    "Perc_Pclass_survived_count = (Pclass_survived_count/Pclass_count)*100\n",
    "Perc_Pclass_survived_count"
   ]
  },
  {
   "cell_type": "code",
   "execution_count": 76,
   "id": "6d7b0a51",
   "metadata": {
    "collapsed": true
   },
   "outputs": [],
   "source": [
    "# Calculating Survival Based on Fare of ticket"
   ]
  },
  {
   "cell_type": "code",
   "execution_count": 77,
   "id": "dccc0772",
   "metadata": {
    "scrolled": true
   },
   "outputs": [
    {
     "data": {
      "text/plain": [
       "<matplotlib.legend.Legend at 0x1cb6f213430>"
      ]
     },
     "execution_count": 77,
     "metadata": {},
     "output_type": "execute_result"
    },
    {
     "data": {
      "image/png": "[encoded data removed]",
      "text/plain": [
       "<Figure size 1152x504 with 1 Axes>"
      ]
     },
     "metadata": {
      "needs_background": "light"
     },
     "output_type": "display_data"
    }
   ],
   "source": [
    "figure = plt.figure(figsize=(16, 7))\n",
    "plt.hist([dframe[dframe['Survived'] == 1]['Fare'], dframe[dframe['Survived'] == 0]['Fare']], \n",
    "         stacked=True, bins = 50, label = ['Survived','Dead'])\n",
    "plt.xlabel('Fare')\n",
    "plt.ylabel('Number of passengers')\n",
    "plt.legend()"
   ]
  },
  {
   "cell_type": "code",
   "execution_count": 78,
   "id": "cc6fdbaf",
   "metadata": {
    "collapsed": true
   },
   "outputs": [],
   "source": [
    "# Clearly blue color against Orange color clearly states that passengers with higher ticket price survived the most"
   ]
  },
  {
   "cell_type": "code",
   "execution_count": 79,
   "id": "777e493e",
   "metadata": {},
   "outputs": [
    {
     "data": {
      "text/html": [
       "<div>\n",
       "<style scoped>\n",
       "    .dataframe tbody tr th:only-of-type {\n",
       "        vertical-align: middle;\n",
       "    }\n",
       "\n",
       "    .dataframe tbody tr th {\n",
       "        vertical-align: top;\n",
       "    }\n",
       "\n",
       "    .dataframe thead th {\n",
       "        text-align: right;\n",
       "    }\n",
       "</style>\n",
       "<table border=\"1\" class=\"dataframe\">\n",
       "  <thead>\n",
       "    <tr style=\"text-align: right;\">\n",
       "      <th></th>\n",
       "      <th>Survived</th>\n",
       "      <th>Pclass</th>\n",
       "      <th>Sex</th>\n",
       "      <th>Age</th>\n",
       "      <th>SibSp</th>\n",
       "      <th>Fare</th>\n",
       "      <th>Embarked</th>\n",
       "      <th>Title</th>\n",
       "      <th>Died</th>\n",
       "    </tr>\n",
       "  </thead>\n",
       "  <tbody>\n",
       "    <tr>\n",
       "      <th>61</th>\n",
       "      <td>1</td>\n",
       "      <td>1</td>\n",
       "      <td>0</td>\n",
       "      <td>38.0</td>\n",
       "      <td>0</td>\n",
       "      <td>80.0</td>\n",
       "      <td>NaN</td>\n",
       "      <td>Miss</td>\n",
       "      <td>0</td>\n",
       "    </tr>\n",
       "    <tr>\n",
       "      <th>829</th>\n",
       "      <td>1</td>\n",
       "      <td>1</td>\n",
       "      <td>0</td>\n",
       "      <td>62.0</td>\n",
       "      <td>0</td>\n",
       "      <td>80.0</td>\n",
       "      <td>NaN</td>\n",
       "      <td>Mrs</td>\n",
       "      <td>0</td>\n",
       "    </tr>\n",
       "  </tbody>\n",
       "</table>\n",
       "</div>"
      ],
      "text/plain": [
       "     Survived  Pclass  Sex   Age  SibSp  Fare Embarked Title  Died\n",
       "61          1       1    0  38.0      0  80.0      NaN  Miss     0\n",
       "829         1       1    0  62.0      0  80.0      NaN   Mrs     0"
      ]
     },
     "execution_count": 79,
     "metadata": {},
     "output_type": "execute_result"
    }
   ],
   "source": [
    "# Now, checking data and doing analysis based on Embarked attribute\n",
    "dframe[dframe.Embarked.isna()]\n",
    "# So we have two passenger for whom we don't have the details of Embarked and for the time-being these values can be dropped"
   ]
  },
  {
   "cell_type": "code",
   "execution_count": 80,
   "id": "9d7f0cbd",
   "metadata": {
    "collapsed": true
   },
   "outputs": [],
   "source": [
    "dframe.dropna(subset=['Embarked'], inplace = True)\n"
   ]
  },
  {
   "cell_type": "code",
   "execution_count": 81,
   "id": "5c014da5",
   "metadata": {},
   "outputs": [
    {
     "data": {
      "text/plain": [
       "Embarked\n",
       "C    55.357143\n",
       "Q    38.961039\n",
       "S    33.695652\n",
       "Name: Survived, dtype: float64"
      ]
     },
     "execution_count": 81,
     "metadata": {},
     "output_type": "execute_result"
    }
   ],
   "source": [
    "# Calculating the percentage survival based on Embark attribute\n",
    "Embarked_survived_count = dframe[dframe['Survived']==1].groupby('Embarked').count()['Survived']\n",
    "Embarked_count = dframe.groupby('Embarked').count()['Survived']\n",
    "Perc_Embarked_survived_count = (Embarked_survived_count/Embarked_count)*100\n",
    "Perc_Embarked_survived_count"
   ]
  },
  {
   "cell_type": "code",
   "execution_count": 82,
   "id": "29ae3c87",
   "metadata": {
    "collapsed": true
   },
   "outputs": [],
   "source": [
    "# The passengers travelling to destination C survived the most"
   ]
  },
  {
   "cell_type": "markdown",
   "id": "6942773b",
   "metadata": {},
   "source": [
    "Results\n",
    "\n",
    "The final analysis includes:\n",
    "\n",
    "A cleaned and preprocessed dataset.\n",
    "\n",
    "Visualizations that illustrate key patterns and insights.\n",
    "\n",
    "Observations and hypotheses for further modeling or investigation."
   ]
  },
  {
   "cell_type": "markdown",
   "id": "7000c030",
   "metadata": {},
   "source": []
  }
 ],
 "metadata": {
  "kernelspec": {
   "display_name": "Python 3 (ipykernel)",
   "language": "python",
   "name": "python3"
  },
  "language_info": {
   "codemirror_mode": {
    "name": "ipython",
    "version": 3
   },
   "file_extension": ".py",
   "mimetype": "text/x-python",
   "name": "python",
   "nbconvert_exporter": "python",
   "pygments_lexer": "ipython3",
   "version": "3.9.12"
  }
 },
 "nbformat": 4,
 "nbformat_minor": 5
}
